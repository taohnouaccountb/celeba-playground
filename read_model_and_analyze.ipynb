{
 "cells": [
  {
   "cell_type": "code",
   "execution_count": 1,
   "metadata": {},
   "outputs": [],
   "source": [
    "import numpy as np\n",
    "import sonnet as snt\n",
    "import tensorflow as tf\n",
    "import copy\n",
    "import os\n",
    "import matplotlib.pyplot as plt\n",
    "from tqdm import tqdm"
   ]
  },
  {
   "cell_type": "code",
   "execution_count": 2,
   "metadata": {},
   "outputs": [],
   "source": [
    "def load_celeba(data_dir, restricted_degree, label_type, print_ratio=False):\n",
    "    \"\"\"Returns CelebA as (train_data, train_labels, test_data, test_labels)\n",
    "\n",
    "        Shapes are (162770, 64, 64, 3), (162770, 2), (19962, 64, 64, 3), (19962, 10)\n",
    "        Data is in [0,1] and labels are one-hot\n",
    "\n",
    "        Arg:\n",
    "          restricted_degree: only keep the instances with at least d selected attributes\n",
    "    \"\"\"\n",
    "    train_data = np.load(os.path.join(data_dir, 'celeba_train_imgs.npy')).astype('float32') / 255.0\n",
    "    test_data = np.load(os.path.join(data_dir, 'celeba_test_imgs.npy')).astype('float32') / 255.0\n",
    "\n",
    "    info_pak = np.load(os.path.join(data_dir, 'celeba_attr.npz'))\n",
    "    train_idxs = info_pak['train_idxs']\n",
    "    val_idxs = info_pak['val_idxs']\n",
    "    test_idxs = info_pak['test_idxs']\n",
    "    attribute_names = info_pak['attribute_names']\n",
    "    attributes = info_pak['attributes']\n",
    "    male_attr_idx = 20\n",
    "\n",
    "    def get_label(data, idxs):\n",
    "        def count_indicators(attr):\n",
    "            important_attributes_idx = [0, 1, 4, 9, 16, 18, 22, 24, 29, 30, 34, 36, 37, 38]\n",
    "            x = np.array([0] * attr.shape[0])\n",
    "            for i in important_attributes_idx:\n",
    "                x = x + attr[:, i]\n",
    "            return x\n",
    "\n",
    "        label = attributes[idxs]\n",
    "        sig = count_indicators(label) >= restricted_degree\n",
    "        label = label[sig]\n",
    "        data = data[sig]\n",
    "\n",
    "        if label_type == 'gender':\n",
    "            label = 1-label[:, male_attr_idx].reshape([-1, 1])\n",
    "            label = np.append(label, 1 - label, 1)\n",
    "        elif label_type == 'subattr':\n",
    "            # decission_tree_attr_idx = [1, 6, 34, 35, 36]\n",
    "            # decission_tree_attr_idx = [0, 1, 6, 7, 8, 9, 12, 18, 19, male_attr_idx, 24, 34, 36, 38, 39]\n",
    "            decission_tree_attr_idx = [i for i in range(label.shape[1])]\n",
    "            sub_attributes_idx = np.array(decission_tree_attr_idx)\n",
    "            label = label[:, sub_attributes_idx]\n",
    "        return data, label\n",
    "\n",
    "    train_data, train_label = get_label(train_data, train_idxs)\n",
    "    test_data, test_label = get_label(test_data, test_idxs)\n",
    "\n",
    "    if print_ratio:\n",
    "        print('\\nCelebA restricted degree: {}'.format(restricted_degree))\n",
    "        train_ratio = sum(train_label[:, 1]) / train_label.shape[0]\n",
    "        test_ratio = sum(test_label[:, 1]) / test_label.shape[0]\n",
    "        print('Training set - Male: {:.2f}% ({}/{}), Not male: {:.2f}%'.format(train_ratio * 100,\n",
    "                                                                               sum(train_label[:, 1]),\n",
    "                                                                               train_label.shape[0],\n",
    "                                                                               100 - train_ratio * 100))\n",
    "        print('Testing set - Male: {:.2f}% ({}/{}), Not male: {:.2f}%'.format(test_ratio * 100,\n",
    "                                                                              sum(test_label[:, 1]),\n",
    "                                                                              test_label.shape[0],\n",
    "                                                                              100 - test_ratio * 100))\n",
    "\n",
    "    return train_data[:2000], train_label[:2000], test_data, test_label"
   ]
  },
  {
   "cell_type": "code",
   "execution_count": 3,
   "metadata": {},
   "outputs": [],
   "source": [
    "train_data, train_labels, test_data, test_labels = load_celeba(\n",
    "        'H:\\\\CodeRange\\\\CelebA\\\\npy\\\\', restricted_degree=0, print_ratio=False, label_type='gender')\n",
    "\n",
    "_, train_latent_labels, _, test_latent_labels = load_celeba(\n",
    "    'H:\\\\CodeRange\\\\CelebA\\\\npy\\\\', restricted_degree=0, print_ratio=False, label_type='subattr')"
   ]
  },
  {
   "cell_type": "code",
   "execution_count": 4,
   "metadata": {},
   "outputs": [
    {
     "name": "stdout",
     "output_type": "stream",
     "text": [
      "WARNING:tensorflow:From <ipython-input-4-48fc83f43129>:4: load (from tensorflow.python.saved_model.loader_impl) is deprecated and will be removed in a future version.\n",
      "Instructions for updating:\n",
      "This function will only be available through the v1 compatibility library as tf.compat.v1.saved_model.loader.load or tf.compat.v1.saved_model.load. There will be a new function for importing SavedModels in Tensorflow 2.0.\n",
      "WARNING:tensorflow:From H:\\Miniconda\\envs\\sounds-deep\\lib\\site-packages\\tensorflow\\python\\training\\saver.py:1266: checkpoint_exists (from tensorflow.python.training.checkpoint_management) is deprecated and will be removed in a future version.\n",
      "Instructions for updating:\n",
      "Use standard file APIs to check for files with this prefix.\n",
      "INFO:tensorflow:Restoring parameters from ./saved_model\\variables\\variables\n"
     ]
    }
   ],
   "source": [
    "config = tf.ConfigProto()\n",
    "config.gpu_options.allow_growth = True\n",
    "session = tf.Session(config=config)\n",
    "model=tf.saved_model.loader.load(session, [tf.saved_model.tag_constants.SERVING], './saved_model')"
   ]
  },
  {
   "cell_type": "code",
   "execution_count": 5,
   "metadata": {
    "scrolled": true
   },
   "outputs": [
    {
     "name": "stdout",
     "output_type": "stream",
     "text": [
      "x                   , data_ph:0\n",
      "x_latent            , latent_label_ph:0\n",
      "latent_labels       , vae_1/strided_slice:0\n",
      "latent_var          , vae_1/MultivariateNormalDiag/sample/affine_linear_operator/forward/add:0\n",
      "output              , vae_1/batch_apply/Reshape_1:0\n"
     ]
    }
   ],
   "source": [
    "def get_variables(model_meta):\n",
    "    graph = tf.get_default_graph()\n",
    "    sig_vars = copy.deepcopy(model_meta.signature_def['serving_default'])\n",
    "    sig_inputs = sig_vars.inputs\n",
    "    sig_outputs = sig_vars.outputs\n",
    "    output = dict()\n",
    "    for k in sig_inputs.keys():\n",
    "        print('{:20}, {}'.format(k,sig_inputs[k].name))\n",
    "        output[k] = graph.get_tensor_by_name(sig_inputs[k].name)\n",
    "    for k in sig_outputs.keys():\n",
    "        print('{:20}, {}'.format(k,sig_outputs[k].name))\n",
    "        output[k] = graph.get_tensor_by_name(sig_outputs[k].name)\n",
    "    return output\n",
    "\n",
    "tensors = get_variables(model)\n",
    "\n",
    "t_x = tensors['x']\n",
    "t_x_latent = tensors['x_latent']\n",
    "t_latent_labels = tensors['latent_labels']\n",
    "t_output = tensors['output']"
   ]
  },
  {
   "cell_type": "code",
   "execution_count": 34,
   "metadata": {},
   "outputs": [
    {
     "name": "stderr",
     "output_type": "stream",
     "text": [
      "100%|████████████████████████████████████████████████████████████| 623/623 [00:07<00:00, 79.43it/s]\n"
     ]
    }
   ],
   "source": [
    "epoch_size = 32\n",
    "\n",
    "test_data_len = test_data.shape[0]\n",
    "epoch_num = test_data_len // epoch_size\n",
    "# epoch_num = 60\n",
    "instance_num = epoch_num * epoch_size\n",
    "\n",
    "latent_labels = []\n",
    "for i in tqdm(range(epoch_num)):\n",
    "    epoch_beg = i*epoch_size\n",
    "    epoch_end = (i+1)*epoch_size\n",
    "#     print(epoch_beg, epoch_end)\n",
    "    outputs = session.run([t_output, t_latent_labels], \n",
    "                          feed_dict={t_x:test_data[epoch_beg:epoch_end], \n",
    "                                     t_x_latent:test_latent_labels[epoch_beg:epoch_end]})\n",
    "    latent_labels.append(outputs[1])\n",
    "latent_labels = np.concatenate(latent_labels)>0\n",
    "correct = latent_labels==(test_latent_labels[:instance_num])\n",
    "accu = sum(correct)/instance_num"
   ]
  },
  {
   "cell_type": "code",
   "execution_count": 35,
   "metadata": {},
   "outputs": [
    {
     "name": "stdout",
     "output_type": "stream",
     "text": [
      "   0: 5_o_Clock_Shadow    , 0.9078\n",
      "   1: Arched_Eyebrows     , 0.7788\n",
      "   2: Attractive          , 0.7745\n",
      "   3: Bags_Under_Eyes     , 0.8271\n",
      "   4: Bald                , 0.9791\n",
      "   5: Bangs               , 0.9128\n",
      "   6: Big_Lips            , 0.7001\n",
      "   7: Big_Nose            , 0.8176\n",
      "   8: Black_Hair          , 0.8270\n",
      "   9: Blond_Hair          , 0.9275\n",
      "  10: Blurry              , 0.9475\n",
      "  11: Brown_Hair          , 0.8168\n",
      "  12: Bushy_Eyebrows      , 0.8916\n",
      "  13: Chubby              , 0.9491\n",
      "  14: Double_Chin         , 0.9570\n",
      "  15: Eyeglasses          , 0.9738\n",
      "  16: Goatee              , 0.9588\n",
      "  17: Gray_Hair           , 0.9714\n",
      "  18: Heavy_Makeup        , 0.8800\n",
      "  19: High_Cheekbones     , 0.8344\n",
      "  20: Male                , 0.9480\n",
      "  21: Mouth_Slightly_Open , 0.8901\n",
      "  22: Mustache            , 0.9635\n",
      "  23: Narrow_Eyes         , 0.8603\n",
      "  24: No_Beard            , 0.9220\n",
      "  25: Oval_Face           , 0.7284\n",
      "  26: Pale_Skin           , 0.9669\n",
      "  27: Pointy_Nose         , 0.7374\n",
      "  28: Receding_Hairline   , 0.9172\n",
      "  29: Rosy_Cheeks         , 0.9428\n",
      "  30: Sideburns           , 0.9623\n",
      "  31: Smiling             , 0.8940\n",
      "  32: Straight_Hair       , 0.7908\n",
      "  33: Wavy_Hair           , 0.7223\n",
      "  34: Wearing_Earrings    , 0.8167\n",
      "  35: Wearing_Hat         , 0.9721\n",
      "  36: Wearing_Lipstick    , 0.9147\n",
      "  37: Wearing_Necklace    , 0.8605\n",
      "  38: Wearing_Necktie     , 0.9435\n",
      "  39: Young               , 0.8375\n"
     ]
    }
   ],
   "source": [
    "attributes_names = np.load('./gender-classification/data/toy_celeba/celeba_attr.npz')['attribute_names']\n",
    "for i,ac in enumerate(accu):\n",
    "    print('{:4}: {:20}, {:.4f}'.format(i, attributes_names[i], ac))"
   ]
  },
  {
   "cell_type": "code",
   "execution_count": 38,
   "metadata": {},
   "outputs": [
    {
     "data": {
      "image/png": "[encoded data removed]",
      "text/plain": [
       "<Figure size 432x288 with 1 Axes>"
      ]
     },
     "metadata": {
      "needs_background": "light"
     },
     "output_type": "display_data"
    },
    {
     "name": "stderr",
     "output_type": "stream",
     "text": [
      "Clipping input data to the valid range for imshow with RGB data ([0..1] for floats or [0..255] for integers).\n"
     ]
    },
    {
     "data": {
      "image/png": "[encoded data removed]",
      "text/plain": [
       "<Figure size 432x288 with 1 Axes>"
      ]
     },
     "metadata": {
      "needs_background": "light"
     },
     "output_type": "display_data"
    },
    {
     "name": "stdout",
     "output_type": "stream",
     "text": [
      "Male: 1\n",
      "Mustache: 0\n",
      "No_Beard: 1\n"
     ]
    }
   ],
   "source": [
    "# Example\n",
    "\n",
    "idx = 20\n",
    "\n",
    "outputs = session.run([t_output, t_latent_labels], feed_dict={t_x:train_data[:32], t_x_latent:train_latent_labels[:32]})\n",
    "\n",
    "plt.imshow(train_data[idx])\n",
    "plt.show()\n",
    "\n",
    "y = outputs[0]\n",
    "temp = y[0, idx, :]\n",
    "plt.imshow(temp)\n",
    "plt.show()\n",
    "\n",
    "print('Male:', train_latent_labels[idx][20])\n",
    "print('Mustache:', train_latent_labels[idx][22])\n",
    "print('No_Beard:', train_latent_labels[idx][24])"
   ]
  },
  {
   "cell_type": "code",
   "execution_count": null,
   "metadata": {},
   "outputs": [],
   "source": []
  }
 ],
 "metadata": {
  "kernelspec": {
   "display_name": "Python 3",
   "language": "python",
   "name": "python3"
  },
  "language_info": {
   "codemirror_mode": {
    "name": "ipython",
    "version": 3
   },
   "file_extension": ".py",
   "mimetype": "text/x-python",
   "name": "python",
   "nbconvert_exporter": "python",
   "pygments_lexer": "ipython3",
   "version": "3.6.8"
  }
 },
 "nbformat": 4,
 "nbformat_minor": 2
}
