{
 "cells": [
  {
   "cell_type": "code",
   "execution_count": 1,
   "metadata": {},
   "outputs": [],
   "source": [
    "import numpy as np\n",
    "import os"
   ]
  },
  {
   "cell_type": "code",
   "execution_count": 2,
   "metadata": {},
   "outputs": [
    {
     "name": "stdout",
     "output_type": "stream",
     "text": [
      "0: 5_o_Clock_Shadow\n",
      "1: Arched_Eyebrows\n",
      "2: Attractive\n",
      "3: Bags_Under_Eyes\n",
      "4: Bald\n",
      "5: Bangs\n",
      "6: Big_Lips\n",
      "7: Big_Nose\n",
      "8: Black_Hair\n",
      "9: Blond_Hair\n",
      "10: Blurry\n",
      "11: Brown_Hair\n",
      "12: Bushy_Eyebrows\n",
      "13: Chubby\n",
      "14: Double_Chin\n",
      "15: Eyeglasses\n",
      "16: Goatee\n",
      "17: Gray_Hair\n",
      "18: Heavy_Makeup\n",
      "19: High_Cheekbones\n",
      "20: Male\n",
      "21: Mouth_Slightly_Open\n",
      "22: Mustache\n",
      "23: Narrow_Eyes\n",
      "24: No_Beard\n",
      "25: Oval_Face\n",
      "26: Pale_Skin\n",
      "27: Pointy_Nose\n",
      "28: Receding_Hairline\n",
      "29: Rosy_Cheeks\n",
      "30: Sideburns\n",
      "31: Smiling\n",
      "32: Straight_Hair\n",
      "33: Wavy_Hair\n",
      "34: Wearing_Earrings\n",
      "35: Wearing_Hat\n",
      "36: Wearing_Lipstick\n",
      "37: Wearing_Necklace\n",
      "38: Wearing_Necktie\n",
      "39: Young\n"
     ]
    }
   ],
   "source": [
    "def celeba_attr_dataset(root_dir, train_or_test, restricted_degree=0, target_attr_idx=20):\n",
    "    info_pak = np.load(os.path.join(root_dir, 'celeba_attr.npz'))\n",
    "    train_idxs = info_pak['train_idxs']\n",
    "    val_idxs = info_pak['val_idxs']\n",
    "    test_idxs = info_pak['test_idxs']\n",
    "\n",
    "    attribute_names = info_pak['attribute_names']\n",
    "    attributes = info_pak['attributes']\n",
    "\n",
    "    def get_label(idxs, restricted_degree):\n",
    "        def jj(attr):\n",
    "            important_attributes_idx = [0, 1, 4, 9, 16, 18, 22, 24, 29, 30, 34, 36, 37, 38]\n",
    "#             important_attributes_idx = [i for i in range(attr.shape[1])]\n",
    "            x = np.array([0 for i in range(attr.shape[0])])\n",
    "            for i in important_attributes_idx:\n",
    "                x = x + attr[:, i]\n",
    "            return x\n",
    "\n",
    "        label = attributes[idxs]\n",
    "#         sig = jj(label) >= restricted_degree\n",
    "#         label = label[sig]\n",
    "\n",
    "        data = np.delete(label, [target_attr_idx], 1)\n",
    "        label = label[:, target_attr_idx]\n",
    "        return data.astype('float32'), label\n",
    "\n",
    "    if train_or_test=='train':\n",
    "        data, label = get_label(train_idxs, restricted_degree)\n",
    "    elif train_or_test=='test':\n",
    "        data, label = get_label(test_idxs, restricted_degree)\n",
    "    return data, label\n",
    "\n",
    "train_data, train_label = celeba_attr_dataset('./data/toy_celeba', 'train', 20)\n",
    "\n",
    "\n",
    "attributes_names = np.load('./data/toy_celeba/celeba_attr.npz')['attribute_names']\n",
    "name2idx = {}\n",
    "for i,j in enumerate(attributes_names):\n",
    "    name2idx[j] = i\n",
    "    print('{}: {}'.format(i,j))"
   ]
  },
  {
   "cell_type": "code",
   "execution_count": 3,
   "metadata": {},
   "outputs": [
    {
     "data": {
      "text/plain": [
       "(162770, 39)"
      ]
     },
     "execution_count": 3,
     "metadata": {},
     "output_type": "execute_result"
    }
   ],
   "source": [
    "train_data.shape"
   ]
  },
  {
   "cell_type": "code",
   "execution_count": 4,
   "metadata": {},
   "outputs": [
    {
     "data": {
      "text/plain": [
       "(162770,)"
      ]
     },
     "execution_count": 4,
     "metadata": {},
     "output_type": "execute_result"
    }
   ],
   "source": [
    "train_label.shape"
   ]
  },
  {
   "cell_type": "markdown",
   "metadata": {},
   "source": [
    "## CART\n",
    "Code is taken from DrKwint/sounds-deep"
   ]
  },
  {
   "cell_type": "code",
   "execution_count": 5,
   "metadata": {},
   "outputs": [
    {
     "data": {
      "text/plain": [
       "68261"
      ]
     },
     "execution_count": 5,
     "metadata": {},
     "output_type": "execute_result"
    }
   ],
   "source": [
    "sum(train_label)"
   ]
  },
  {
   "cell_type": "code",
   "execution_count": 11,
   "metadata": {},
   "outputs": [],
   "source": [
    "import sklearn.tree\n",
    "\n",
    "# accu_list = []\n",
    "# skew_list_train = []\n",
    "# skew_list_test = []\n",
    "# tree_list = []\n",
    "result_list = []\n",
    "for i in range(40):\n",
    "    target_attr_idx = i\n",
    "    \n",
    "    # Defien the decision tree\n",
    "    max_leaf_nodes = 20\n",
    "    max_depth = 10\n",
    "    decision_tree = sklearn.tree.DecisionTreeClassifier(\n",
    "        max_depth=max_depth,\n",
    "        min_weight_fraction_leaf=0.01,\n",
    "        max_leaf_nodes=max_leaf_nodes)\n",
    "\n",
    "    train_data, train_label = celeba_attr_dataset('./data/toy_celeba', 'train', target_attr_idx=target_attr_idx)\n",
    "    test_data, test_label = celeba_attr_dataset('./data/toy_celeba', 'test', target_attr_idx=target_attr_idx)\n",
    "    decision_tree.fit(train_data, train_label)\n",
    "    \n",
    "    accu = decision_tree.score(test_data, test_label)\n",
    "    result_list.append({\n",
    "        'idx': i,\n",
    "        'name': attributes_names[i],\n",
    "        'test_accu': accu,\n",
    "        'skew_train': sum(train_label)/len(train_label),\n",
    "        'skew_test': sum(test_label)/len(test_label),\n",
    "        'tree': decision_tree\n",
    "    })"
   ]
  },
  {
   "cell_type": "code",
   "execution_count": 12,
   "metadata": {
    "scrolled": false
   },
   "outputs": [
    {
     "name": "stdout",
     "output_type": "stream",
     "text": [
      "[Rank], [AttrName]          , [Accuracy], [Index], [PositivesInTest], [PositivesInTrain]\n",
      "     0, No_Beard            ,     0.9399,      24,            85.37%,             83.42%\n",
      "     1, Young               ,     0.8246,      39,            75.71%,             77.89%\n",
      "     2, Attractive          ,     0.7627,       2,            49.58%,             51.36%\n",
      "     3, Mouth_Slightly_Open ,     0.7698,      21,            49.51%,             48.22%\n",
      "     4, Smiling             ,     0.8516,      31,            50.03%,             47.97%\n",
      "     5, Wearing_Lipstick    ,     0.9270,      36,            52.19%,             46.96%\n",
      "     6, High_Cheekbones     ,     0.8430,      19,            48.18%,             45.24%\n",
      "     7, Male                ,     0.9281,      20,            38.65%,             41.94%\n",
      "     8, Heavy_Makeup        ,     0.8807,      18,            40.50%,             38.43%\n",
      "     9, Wavy_Hair           ,     0.7520,      33,            36.40%,             31.94%\n",
      "    10, Oval_Face           ,     0.7451,      25,            29.56%,             28.32%\n",
      "    11, Pointy_Nose         ,     0.7259,      27,            28.57%,             27.55%\n",
      "    12, Arched_Eyebrows     ,     0.8010,       1,            28.44%,             26.59%\n",
      "    13, Big_Lips            ,     0.7087,       6,            32.70%,             24.09%\n",
      "    14, Black_Hair          ,     0.7600,       8,            27.16%,             23.90%\n",
      "    15, Big_Nose            ,     0.8255,       7,            21.20%,             23.56%\n",
      "    16, Straight_Hair       ,     0.7915,      32,            20.99%,             20.86%\n",
      "    17, Bags_Under_Eyes     ,     0.8276,       3,            20.26%,             20.45%\n",
      "    18, Brown_Hair          ,     0.8222,      11,            17.97%,             20.39%\n",
      "    19, Wearing_Earrings    ,     0.8165,      34,            20.66%,             18.65%\n",
      "    20, Bangs               ,     0.8422,       5,            15.57%,             15.17%\n",
      "    21, Blond_Hair          ,     0.8641,       9,            13.33%,             14.91%\n",
      "    22, Bushy_Eyebrows      ,     0.8739,      12,            12.95%,             14.37%\n",
      "    23, Wearing_Necklace    ,     0.8621,      37,            13.79%,             12.14%\n",
      "    24, Narrow_Eyes         ,     0.8513,      23,            14.87%,             11.59%\n",
      "    25, 5_o_Clock_Shadow    ,     0.9313,       0,             9.99%,             11.17%\n",
      "    26, Receding_Hairline   ,     0.9173,      28,             8.49%,              8.01%\n",
      "    27, Wearing_Necktie     ,     0.9306,      38,             7.01%,              7.30%\n",
      "    28, Rosy_Cheeks         ,     0.9304,      29,             7.17%,              6.47%\n",
      "    29, Eyeglasses          ,     0.9354,      15,             6.46%,              6.46%\n",
      "    30, Goatee              ,     0.9576,      16,             4.58%,              6.35%\n",
      "    31, Chubby              ,     0.9543,      13,             5.30%,              5.77%\n",
      "    32, Sideburns           ,     0.9564,      30,             4.64%,              5.63%\n",
      "    33, Blurry              ,     0.9494,      10,             5.06%,              5.14%\n",
      "    34, Wearing_Hat         ,     0.9580,      35,             4.20%,              4.94%\n",
      "    35, Double_Chin         ,     0.9614,      14,             4.57%,              4.65%\n",
      "    36, Pale_Skin           ,     0.9579,      26,             4.21%,              4.30%\n",
      "    37, Gray_Hair           ,     0.9652,      17,             3.19%,              4.24%\n",
      "    38, Mustache            ,     0.9634,      22,             3.87%,              4.08%\n",
      "    39, Bald                ,     0.9788,       4,             2.12%,              2.28%\n"
     ]
    }
   ],
   "source": [
    "sorted_result_list=sorted(result_list, reverse=True, key=lambda x:x['skew_train'])\n",
    "print('{:6}, {:20}, {:10}, {:7}, {:17}, {:18}'.format('[Rank]', '[AttrName]', '[Accuracy]', '[Index]', '[PositivesInTest]', '[PositivesInTrain]'))\n",
    "for i, x in enumerate(sorted_result_list):\n",
    "    name = x['name']\n",
    "    accu = x['test_accu']\n",
    "    skew_test = x['skew_test']\n",
    "    skew_train = x['skew_train']\n",
    "    index = x['idx']\n",
    "    print('{:6}, {:20}, {:10.4f}, {:7}, {:16.2f}%, {:17.2f}%'.format(i, name, accu, index, skew_test*100, skew_train*100))"
   ]
  },
  {
   "cell_type": "code",
   "execution_count": null,
   "metadata": {},
   "outputs": [],
   "source": [
    "range=(1,15)\n",
    "print(accu_rank[range[0]:range[1]])\n",
    "print([skew_list_train[i] for i in accu_rank[range[0]:range[1]]])"
   ]
  },
  {
   "cell_type": "code",
   "execution_count": 45,
   "metadata": {},
   "outputs": [],
   "source": [
    "def tree2dot(tree, path, target_attr_idx):\n",
    "    sklearn.tree.export_graphviz(\n",
    "        tree,\n",
    "        out_file=path,\n",
    "        feature_names=np.delete(attributes_names,target_attr_idx),\n",
    "        class_names=['negative', 'positive'],\n",
    "        filled=True,\n",
    "        rounded=True,\n",
    "        proportion=True)"
   ]
  },
  {
   "cell_type": "code",
   "execution_count": 46,
   "metadata": {
    "scrolled": true
   },
   "outputs": [],
   "source": [
    "for i,x in enumerate(sorted_result_list):\n",
    "    path = '.\\\\output\\\\SkewRank{:02d}_{}'.format(i, x['name'])\n",
    "    os.mkdir(path)\n",
    "    tree2dot(x['tree'], path + '\\\\CART.dot', target_attr_idx=x['idx'])\n",
    "    os.system('dot -Tpng {} -o {}'.format(path+'\\\\CART.dot', path+'\\\\decision_tree_CART.png'))\n",
    "    os.remove(path + '\\\\CART.dot')"
   ]
  },
  {
   "cell_type": "code",
   "execution_count": null,
   "metadata": {
    "scrolled": true
   },
   "outputs": [],
   "source": [
    "for i,j in enumerate(accu_list):\n",
    "    if(j>0.9):\n",
    "        print(i, attributes_names[i], j)"
   ]
  },
  {
   "cell_type": "markdown",
   "metadata": {},
   "source": [
    "## NB\n",
    "From scikit-learn documentation"
   ]
  },
  {
   "cell_type": "code",
   "execution_count": null,
   "metadata": {},
   "outputs": [],
   "source": [
    "import sklearn.naive_bayes\n",
    "\n",
    "model_nb = sklearn.naive_bayes.BernoulliNB()\n",
    "model_nb.fit(train_data, train_label)\n",
    "accu = model_nb.score(test_data, test_label)\n",
    "print('Accuracy: {:.4f}'.format(accu))"
   ]
  },
  {
   "cell_type": "markdown",
   "metadata": {},
   "source": [
    "## SVM\n",
    "From scikit-learn documentation"
   ]
  },
  {
   "cell_type": "code",
   "execution_count": null,
   "metadata": {},
   "outputs": [],
   "source": [
    "import sklearn.svm\n",
    "\n",
    "model_svm = sklearn.svm.SVC(gamma='scale')\n",
    "model_svm.fit(train_data, train_label)\n",
    "accu = model_svm.score(test_data, test_label)\n",
    "print('Accuracy: {:.4f}'.format(accu))"
   ]
  },
  {
   "cell_type": "markdown",
   "metadata": {},
   "source": [
    "### Get Ratio Male/Not male"
   ]
  },
  {
   "cell_type": "code",
   "execution_count": null,
   "metadata": {},
   "outputs": [],
   "source": [
    "def print_gender_ratio(degree):\n",
    "    _, train_label = celeba_attr_dataset('./data/toy_celeba', 'train', restricted_degree=degree)\n",
    "    _, test_label = celeba_attr_dataset('./data/toy_celeba', 'test', restricted_degree=degree)\n",
    "    train_ratio = sum(train_label)/train_label.shape[0]\n",
    "    test_ratio = sum(test_label)/test_label.shape[0]\n",
    "    print('Training set, Male: {:.2f}%, Not male: {:.2f}%'.format(train_ratio*100, 100-train_ratio*100))\n",
    "    print('Test set: {:.2f}%, Not male: {:.2f}%'.format(test_ratio*100, 100-test_ratio*100))\n"
   ]
  },
  {
   "cell_type": "code",
   "execution_count": null,
   "metadata": {},
   "outputs": [],
   "source": [
    "for i in range(4):\n",
    "    print('Degree {}:'.format(i))\n",
    "    print_gender_ratio(i)\n",
    "    print('')"
   ]
  },
  {
   "cell_type": "markdown",
   "metadata": {},
   "source": [
    "## Else"
   ]
  },
  {
   "cell_type": "code",
   "execution_count": null,
   "metadata": {},
   "outputs": [],
   "source": [
    "attributes_names"
   ]
  },
  {
   "cell_type": "code",
   "execution_count": null,
   "metadata": {},
   "outputs": [],
   "source": [
    "accu_rank"
   ]
  },
  {
   "cell_type": "code",
   "execution_count": null,
   "metadata": {},
   "outputs": [],
   "source": []
  }
 ],
 "metadata": {
  "kernelspec": {
   "display_name": "Python 3",
   "language": "python",
   "name": "python3"
  },
  "language_info": {
   "codemirror_mode": {
    "name": "ipython",
    "version": 3
   },
   "file_extension": ".py",
   "mimetype": "text/x-python",
   "name": "python",
   "nbconvert_exporter": "python",
   "pygments_lexer": "ipython3",
   "version": "3.6.8"
  }
 },
 "nbformat": 4,
 "nbformat_minor": 2
}
