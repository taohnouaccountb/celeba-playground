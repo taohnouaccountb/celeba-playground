{
 "cells": [
  {
   "cell_type": "code",
   "execution_count": 1,
   "metadata": {},
   "outputs": [],
   "source": [
    "import numpy as np\n",
    "import os"
   ]
  },
  {
   "cell_type": "code",
   "execution_count": 2,
   "metadata": {},
   "outputs": [],
   "source": [
    "def celeba_attr_dataset(root_dir, train_or_test, restricted_degree=0):\n",
    "    info_pak = np.load(os.path.join(root_dir, 'celeba_attr.npz'))\n",
    "    train_idxs = info_pak['train_idxs']\n",
    "    val_idxs = info_pak['val_idxs']\n",
    "    test_idxs = info_pak['test_idxs']\n",
    "\n",
    "    attribute_names = info_pak['attribute_names']\n",
    "    attributes = info_pak['attributes']\n",
    "    male_attr_idx = 20\n",
    "\n",
    "    def get_label(idxs, restricted_degree):\n",
    "        def jj(attr):\n",
    "            important_attributes_idx = [0, 1, 4, 9, 16, 18, 22, 24, 29, 30, 34, 36, 37, 38]\n",
    "            x = np.array([0 for i in range(attr.shape[0])])\n",
    "            for i in important_attributes_idx:\n",
    "                x = x + attr[:, i]\n",
    "            return x\n",
    "\n",
    "        label = attributes[idxs]\n",
    "        sig = jj(label) >= restricted_degree\n",
    "        label = label[sig]\n",
    "\n",
    "        data = np.delete(label, [male_attr_idx], 1)\n",
    "        label = label[:, male_attr_idx]\n",
    "        return data.astype('float32'), label\n",
    "\n",
    "    if train_or_test=='train':\n",
    "        data, label = get_label(train_idxs, restricted_degree)\n",
    "    elif train_or_test=='test':\n",
    "        data, label = get_label(test_idxs, restricted_degree)\n",
    "    return data, label\n",
    "        \n",
    "train_data, train_label = celeba_attr_dataset('./data/toy_celeba', 'train')\n",
    "test_data, test_label = celeba_attr_dataset('./data/toy_celeba', 'test')"
   ]
  },
  {
   "cell_type": "markdown",
   "metadata": {},
   "source": [
    "## CART\n",
    "Code is taken from DrKwint/sounds-deep"
   ]
  },
  {
   "cell_type": "code",
   "execution_count": 3,
   "metadata": {},
   "outputs": [],
   "source": [
    "import sklearn.tree\n",
    "\n",
    "# Defien the decision tree\n",
    "max_leaf_nodes = 20\n",
    "max_depth = 10\n",
    "decision_tree = sklearn.tree.DecisionTreeClassifier(\n",
    "    max_depth=max_depth,\n",
    "    min_weight_fraction_leaf=0.01,\n",
    "    max_leaf_nodes=max_leaf_nodes)"
   ]
  },
  {
   "cell_type": "code",
   "execution_count": 4,
   "metadata": {
    "scrolled": true
   },
   "outputs": [
    {
     "data": {
      "text/plain": [
       "DecisionTreeClassifier(class_weight=None, criterion='gini', max_depth=10,\n",
       "            max_features=None, max_leaf_nodes=20,\n",
       "            min_impurity_decrease=0.0, min_impurity_split=None,\n",
       "            min_samples_leaf=1, min_samples_split=2,\n",
       "            min_weight_fraction_leaf=0.01, presort=False,\n",
       "            random_state=None, splitter='best')"
      ]
     },
     "execution_count": 4,
     "metadata": {},
     "output_type": "execute_result"
    }
   ],
   "source": [
    "decision_tree.fit(train_data, train_label)"
   ]
  },
  {
   "cell_type": "code",
   "execution_count": 5,
   "metadata": {},
   "outputs": [
    {
     "name": "stdout",
     "output_type": "stream",
     "text": [
      "Accuracy: 0.9281\n"
     ]
    }
   ],
   "source": [
    "accu = decision_tree.score(test_data, test_label)\n",
    "print('Accuracy: {:.4f}'.format(accu))"
   ]
  },
  {
   "cell_type": "markdown",
   "metadata": {},
   "source": [
    "## NB\n",
    "From scikit-learn documentation"
   ]
  },
  {
   "cell_type": "code",
   "execution_count": 8,
   "metadata": {},
   "outputs": [
    {
     "name": "stdout",
     "output_type": "stream",
     "text": [
      "Accuracy: 0.9249\n"
     ]
    }
   ],
   "source": [
    "import sklearn.naive_bayes\n",
    "\n",
    "model_nb = sklearn.naive_bayes.BernoulliNB()\n",
    "model_nb.fit(train_data, train_label)\n",
    "accu = model_nb.score(test_data, test_label)\n",
    "print('Accuracy: {:.4f}'.format(accu))"
   ]
  },
  {
   "cell_type": "markdown",
   "metadata": {},
   "source": [
    "## SVM\n",
    "From scikit-learn documentation"
   ]
  },
  {
   "cell_type": "code",
   "execution_count": 10,
   "metadata": {},
   "outputs": [
    {
     "name": "stdout",
     "output_type": "stream",
     "text": [
      "Accuracy: 0.9389\n"
     ]
    }
   ],
   "source": [
    "import sklearn.svm\n",
    "\n",
    "model_svm = sklearn.svm.SVC(gamma='scale')\n",
    "model_svm.fit(train_data, train_label)\n",
    "accu = model_svm.score(test_data, test_label)\n",
    "print('Accuracy: {:.4f}'.format(accu))"
   ]
  }
 ],
 "metadata": {
  "kernelspec": {
   "display_name": "Python 3",
   "language": "python",
   "name": "python3"
  },
  "language_info": {
   "codemirror_mode": {
    "name": "ipython",
    "version": 3
   },
   "file_extension": ".py",
   "mimetype": "text/x-python",
   "name": "python",
   "nbconvert_exporter": "python",
   "pygments_lexer": "ipython3",
   "version": "3.6.8"
  }
 },
 "nbformat": 4,
 "nbformat_minor": 2
}
